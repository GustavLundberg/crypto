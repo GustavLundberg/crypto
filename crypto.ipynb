{
 "cells": [
  {
   "cell_type": "code",
   "execution_count": 2,
   "metadata": {},
   "outputs": [],
   "source": [
    "import tensorflow as tf\n",
    "import numpy as np\n",
    "import pandas as pd\n",
    "import matplotlib.pyplot as plt"
   ]
  },
  {
   "cell_type": "code",
   "execution_count": 14,
   "metadata": {},
   "outputs": [
    {
     "name": "stdout",
     "output_type": "stream",
     "text": [
      "   Unix Timestamp                Date  Symbol     Open     High      Low  \\\n",
      "0   1592352000000 2020-06-17 00:00:00  BTCUSD  9526.40  9539.67  9526.40   \n",
      "1   1592351940000 2020-06-16 23:59:00  BTCUSD  9525.68  9532.30  9525.68   \n",
      "2   1592351880000 2020-06-16 23:58:00  BTCUSD  9521.38  9531.92  9521.38   \n",
      "3   1592351820000 2020-06-16 23:57:00  BTCUSD  9525.20  9526.45  9521.27   \n",
      "4   1592351760000 2020-06-16 23:56:00  BTCUSD  9522.95  9525.20  9518.31   \n",
      "\n",
      "     Close    Volume  \n",
      "0  9533.36  0.020150  \n",
      "1  9526.40  0.006691  \n",
      "2  9525.68  0.049345  \n",
      "3  9521.38  0.292681  \n",
      "4  9525.20  3.621439  \n"
     ]
    }
   ],
   "source": [
    "#path = '../dataset/gemini_BTCUSD_2019_1min.csv'\n",
    "path = '../../dataset/gemini_BTCUSD_2019_1min.csv'\n",
    "# Skipping the first line of the csv-file\n",
    "with open(path, 'r') as f:\n",
    "    next(f)\n",
    "    df = pd.read_csv(f, parse_dates = ['Date'])#, index_col = 'Date')\n",
    "\n",
    "print(df.head())"
   ]
  },
  {
   "cell_type": "code",
   "execution_count": 15,
   "metadata": {},
   "outputs": [
    {
     "name": "stdout",
     "output_type": "stream",
     "text": [
      "Date      datetime64[ns]\n",
      "Open             float64\n",
      "Volume           float64\n",
      "dtype: object\n"
     ]
    }
   ],
   "source": [
    "df = df[['Date', 'Open', 'Volume']]\n",
    "print(df.dtypes)"
   ]
  },
  {
   "cell_type": "code",
   "execution_count": 16,
   "metadata": {},
   "outputs": [
    {
     "data": {
      "text/plain": [
       "<matplotlib.axes._subplots.AxesSubplot at 0x7f631411ef60>"
      ]
     },
     "execution_count": 16,
     "metadata": {},
     "output_type": "execute_result"
    },
    {
     "data": {
      "image/png": "[encoded data removed]",
      "text/plain": [
       "<Figure size 432x288 with 1 Axes>"
      ]
     },
     "metadata": {
      "needs_background": "light"
     },
     "output_type": "display_data"
    }
   ],
   "source": [
    "df.plot(x = 'Date', y = 'Open')"
   ]
  },
  {
   "cell_type": "code",
   "execution_count": 17,
   "metadata": {},
   "outputs": [
    {
     "name": "stdout",
     "output_type": "stream",
     "text": [
      "                 Date     Open    Volume\n",
      "0 2020-06-17 00:00:00  9526.40  0.020150\n",
      "1 2020-06-16 23:59:00  9525.68  0.006691\n",
      "2 2020-06-16 23:58:00  9521.38  0.049345\n",
      "3 2020-06-16 23:57:00  9525.20  0.292681\n",
      "4 2020-06-16 23:56:00  9522.95  3.621439\n",
      "<class 'numpy.ndarray'> (712796, 3)\n"
     ]
    }
   ],
   "source": [
    "print(df.head())\n",
    "df = df.to_numpy()\n",
    "print(type(df), df.shape)"
   ]
  },
  {
   "cell_type": "code",
   "execution_count": 27,
   "metadata": {},
   "outputs": [
    {
     "ename": "SyntaxError",
     "evalue": "unexpected EOF while parsing (<ipython-input-27-38bec84f1e65>, line 2)",
     "output_type": "error",
     "traceback": [
      "\u001b[0;36m  File \u001b[0;32m\"<ipython-input-27-38bec84f1e65>\"\u001b[0;36m, line \u001b[0;32m2\u001b[0m\n\u001b[0;31m    \u001b[0m\n\u001b[0m    ^\u001b[0m\n\u001b[0;31mSyntaxError\u001b[0m\u001b[0;31m:\u001b[0m unexpected EOF while parsing\n"
     ]
    }
   ],
   "source": [
    "def to_sequences(dataset, seq_len, future_pred):\n",
    "    "
   ]
  },
  {
   "cell_type": "code",
   "execution_count": null,
   "metadata": {},
   "outputs": [],
   "source": []
  }
 ],
 "metadata": {
  "kernelspec": {
   "display_name": "Python 3",
   "language": "python",
   "name": "python3"
  },
  "language_info": {
   "codemirror_mode": {
    "name": "ipython",
    "version": 3
   },
   "file_extension": ".py",
   "mimetype": "text/x-python",
   "name": "python",
   "nbconvert_exporter": "python",
   "pygments_lexer": "ipython3",
   "version": "3.6.9"
  }
 },
 "nbformat": 4,
 "nbformat_minor": 2
}
